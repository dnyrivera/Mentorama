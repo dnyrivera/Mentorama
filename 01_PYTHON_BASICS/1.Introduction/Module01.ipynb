{
 "cells": [
  {
   "cell_type": "code",
   "execution_count": 5,
   "metadata": {},
   "outputs": [
    {
     "name": "stdout",
     "output_type": "stream",
     "text": [
      "The Zen of Python, by Tim Peters\n",
      "\n",
      "Beautiful is better than ugly.\n",
      "Explicit is better than implicit.\n",
      "Simple is better than complex.\n",
      "Complex is better than complicated.\n",
      "Flat is better than nested.\n",
      "Sparse is better than dense.\n",
      "Readability counts.\n",
      "Special cases aren't special enough to break the rules.\n",
      "Although practicality beats purity.\n",
      "Errors should never pass silently.\n",
      "Unless explicitly silenced.\n",
      "In the face of ambiguity, refuse the temptation to guess.\n",
      "There should be one-- and preferably only one --obvious way to do it.\n",
      "Although that way may not be obvious at first unless you're Dutch.\n",
      "Now is better than never.\n",
      "Although never is often better than *right* now.\n",
      "If the implementation is hard to explain, it's a bad idea.\n",
      "If the implementation is easy to explain, it may be a good idea.\n",
      "Namespaces are one honking great idea -- let's do more of those!\n"
     ]
    }
   ],
   "source": [
    "import this"
   ]
  },
  {
   "cell_type": "markdown",
   "metadata": {},
   "source": [
    "## If / Else "
   ]
  },
  {
   "cell_type": "code",
   "execution_count": 4,
   "metadata": {},
   "outputs": [
    {
     "name": "stdout",
     "output_type": "stream",
     "text": [
      "x is less than y\n"
     ]
    }
   ],
   "source": [
    "if x < y:\n",
    "    print(\"x is less than y\")"
   ]
  },
  {
   "cell_type": "code",
   "execution_count": 7,
   "metadata": {},
   "outputs": [],
   "source": [
    "if y < x:\n",
    "    print(\"y is less than x\")"
   ]
  },
  {
   "cell_type": "code",
   "execution_count": 8,
   "metadata": {},
   "outputs": [
    {
     "name": "stdout",
     "output_type": "stream",
     "text": [
      "y is not equal to x\n"
     ]
    }
   ],
   "source": [
    "if y == x:\n",
    "    print (\"y is equal to x\")\n",
    "print (\"y is not equal to x\")"
   ]
  },
  {
   "cell_type": "code",
   "execution_count": 10,
   "metadata": {},
   "outputs": [
    {
     "name": "stdout",
     "output_type": "stream",
     "text": [
      "y squared is greater than x\n"
     ]
    }
   ],
   "source": [
    "if y**2 > x:\n",
    "    print(\"y squared is greater than x\")"
   ]
  },
  {
   "cell_type": "code",
   "execution_count": 12,
   "metadata": {},
   "outputs": [
    {
     "name": "stdout",
     "output_type": "stream",
     "text": [
      "yes\n"
     ]
    }
   ],
   "source": [
    "if 'ani' in 'animals':\n",
    "    print('yes')"
   ]
  },
  {
   "cell_type": "code",
   "execution_count": 15,
   "metadata": {},
   "outputs": [
    {
     "name": "stdout",
     "output_type": "stream",
     "text": [
      "Rivera is not in the list\n"
     ]
    }
   ],
   "source": [
    "name = 'Rivera'\n",
    "if name in ['Paulo', 'Donny', 'Miguel']:\n",
    "    print('Paulo is in the list') \n",
    "print(name + ' is not in the list')"
   ]
  },
  {
   "cell_type": "code",
   "execution_count": 17,
   "metadata": {},
   "outputs": [
    {
     "name": "stdout",
     "output_type": "stream",
     "text": [
      "Your name is not Donny\n"
     ]
    }
   ],
   "source": [
    "name = 'Josany'\n",
    "middle_name = 'Lacerda'\n",
    "last_name = 'Rivera'\n",
    "\n",
    "if name == 'Donny':\n",
    "    print('Hello Donny')\n",
    "    if middle_name == 'Rivera':\n",
    "        print('Hello Rivera')\n",
    "        if last_name == 'Negrao':\n",
    "            print('Hello Negrao')\n",
    "        else:\n",
    "            print('Your last name is not Negrao')\n",
    "    else:\n",
    "        print('Your middle name is not Rivera')\n",
    "else:\n",
    "    print('Your name is not Donny')"
   ]
  },
  {
   "cell_type": "markdown",
   "metadata": {},
   "source": [
    "## Elif"
   ]
  },
  {
   "cell_type": "code",
   "execution_count": 3,
   "metadata": {},
   "outputs": [
    {
     "name": "stdout",
     "output_type": "stream",
     "text": [
      "The university does not have that class\n"
     ]
    }
   ],
   "source": [
    "# Testing if my class exists on the unviversity \n",
    "classes = 'test'\n",
    "if classes == 'Physics':\n",
    "    print('Physics')\n",
    "elif classes == 'Spanish':\n",
    "    print('Spanish')\n",
    "elif classes == 'Chemistry':\n",
    "    print('Chemistry')\n",
    "elif classes == 'Math':\n",
    "    print('Math')\n",
    "else:\n",
    "    print('The university does not have that class')"
   ]
  },
  {
   "cell_type": "code",
   "execution_count": 6,
   "metadata": {},
   "outputs": [
    {
     "name": "stdout",
     "output_type": "stream",
     "text": [
      "b is greater than a\n"
     ]
    }
   ],
   "source": [
    "a = 25 \n",
    "b = 26 \n",
    "if b > a:\n",
    "    print(\"b is greater than a\")\n",
    "elif a == b: \n",
    "    print(\"a and b are equal\")\n",
    "else:\n",
    "    print(\"a is greater than b\")"
   ]
  },
  {
   "cell_type": "markdown",
   "metadata": {},
   "source": [
    "## Loops "
   ]
  },
  {
   "cell_type": "markdown",
   "metadata": {},
   "source": [
    "### For"
   ]
  },
  {
   "cell_type": "code",
   "execution_count": null,
   "metadata": {},
   "outputs": [
    {
     "name": "stdout",
     "output_type": "stream",
     "text": [
      "0\n",
      "1\n",
      "2\n",
      "3\n",
      "4\n",
      "5\n",
      "6\n",
      "7\n",
      "8\n",
      "9\n"
     ]
    }
   ],
   "source": [
    "#range \n",
    "for x in range(0,10):\n",
    "    print(x)"
   ]
  },
  {
   "cell_type": "code",
   "execution_count": null,
   "metadata": {},
   "outputs": [
    {
     "name": "stdout",
     "output_type": "stream",
     "text": [
      "apple\n",
      "banana\n",
      "cherry\n",
      "orange\n"
     ]
    }
   ],
   "source": [
    "fruits = [\"apple\", \"banana\", \"cherry\", \"orange\"]\n",
    "for x in fruits:\n",
    "    print(x)\n",
    "    "
   ]
  },
  {
   "cell_type": "code",
   "execution_count": null,
   "metadata": {},
   "outputs": [
    {
     "name": "stdout",
     "output_type": "stream",
     "text": [
      "0: apple\n",
      "1: banana\n",
      "2: cherry\n",
      "3: orange\n"
     ]
    }
   ],
   "source": [
    "for x in range(len(fruits)):\n",
    "    print(x, fruits[x], sep=\": \", end=\"\\n\")\n",
    "    "
   ]
  },
  {
   "cell_type": "code",
   "execution_count": null,
   "metadata": {},
   "outputs": [
    {
     "name": "stdout",
     "output_type": "stream",
     "text": [
      "b\n",
      "a\n",
      "n\n",
      "a\n",
      "n\n",
      "a\n"
     ]
    }
   ],
   "source": [
    "#print String   \n",
    "for x in \"banana\":\n",
    "    print(x)"
   ]
  },
  {
   "cell_type": "code",
   "execution_count": null,
   "metadata": {},
   "outputs": [
    {
     "name": "stdout",
     "output_type": "stream",
     "text": [
      "1\n",
      "2\n",
      "3\n",
      "4\n",
      "5\n",
      "6\n",
      "7\n",
      "8\n",
      "9\n",
      "10\n",
      "11\n",
      "12\n",
      "13\n",
      "14\n",
      "15\n",
      "16\n",
      "17\n",
      "18\n",
      "19\n",
      "20\n"
     ]
    }
   ],
   "source": [
    "#print numbers\n",
    "for i in range(1,21):\n",
    "    print(i)\n"
   ]
  },
  {
   "cell_type": "markdown",
   "metadata": {},
   "source": [
    "### While"
   ]
  },
  {
   "cell_type": "code",
   "execution_count": 12,
   "metadata": {},
   "outputs": [],
   "source": [
    "# using while to print numbers from 0 to 9 and break when you type 0\n",
    "sum = 0 \n",
    "while True:\n",
    "    value = int(input(\"Enter a number or type 0 to end: \"))\n",
    "    if value == 0:\n",
    "        break\n",
    "    sum += value\n",
    "print(\"The sum is: \", sum)"
   ]
  },
  {
   "cell_type": "code",
   "execution_count": 1,
   "metadata": {},
   "outputs": [
    {
     "name": "stdout",
     "output_type": "stream",
     "text": [
      "0\n",
      "1\n",
      "2\n",
      "3\n",
      "4\n",
      "5\n",
      "6\n",
      "7\n",
      "8\n",
      "9\n"
     ]
    }
   ],
   "source": [
    "# using while loop print numbers from 0 to 9\n",
    "i = 0 \n",
    "while i < 10:\n",
    "    print(i)\n",
    "    i += 1 "
   ]
  },
  {
   "cell_type": "markdown",
   "metadata": {},
   "source": [
    "# Exercises "
   ]
  },
  {
   "cell_type": "markdown",
   "metadata": {},
   "source": [
    "1. Vamos fazer um programa que auxilia o setor financeiro de uma grande loja de roupas, ester programa deve ler:  \n",
    "a) Cpf de funcionário  \n",
    "b) Seu numero de horas trabalhas  \n",
    "c) O valor que recebe da hora  \n",
    "d) Calcular o salário do funcionário e mostrar na tela  "
   ]
  },
  {
   "cell_type": "code",
   "execution_count": 3,
   "metadata": {},
   "outputs": [
    {
     "name": "stdout",
     "output_type": "stream",
     "text": [
      "Your salary is: $3300.00\n"
     ]
    }
   ],
   "source": [
    "user_cpf = int(input(\"Enter your CPF: \"))\n",
    "worked_hours = int(input(\"Enter your worked hours: \"))\n",
    "hour_value = float(input(\"Enter your hour value: \"))\n",
    "salary = worked_hours * hour_value\n",
    "print(f\"Your salary is: ${salary:.2f}\")"
   ]
  },
  {
   "cell_type": "markdown",
   "metadata": {},
   "source": [
    "2) Agora, vamos acrescentar algumas regras de negócio à este programa. Nesta empresa os funcionários que ocupam cargo de vendedor recebem comissão, sendo assim é necessário acrescentar a comissão: \n",
    "\n",
    "    a. 70 reais se tiver vendido de 1 a 50 peças de roupa no mês\n",
    "\n",
    "    b. 110 reais se tiver vendido de 51 a 100 peças de roupa no mês\n",
    "\n",
    "    c. 200 reais se tiver vendido mais de 100 peças de roupa no mês  \n",
    "\n",
    "    Obs.: Os cargos da empresa são: vendedor(a), gerente geral, analista de rh, analista financeiro, comprador(a), auxiliar administrativo e faxineiro(a).  "
   ]
  },
  {
   "cell_type": "code",
   "execution_count": 5,
   "metadata": {},
   "outputs": [
    {
     "name": "stdout",
     "output_type": "stream",
     "text": [
      "Your salary is: $900.00\n",
      "Your bonus salary is: $1870.00\n"
     ]
    }
   ],
   "source": [
    "# Module 1 - Exercise 2\n",
    "user_cpf = int(input(\"Enter your CPF: \"))\n",
    "worked_hours = int(input(\"Enter your worked hours: \"))\n",
    "hour_value = float(input(\"Enter your hour value: \"))\n",
    "work_position = int(input(\"\"\"Enter your work position: \n",
    "                          1 - Manager\\n\n",
    "                          2 - Supervisor\\n\n",
    "                          3 - Salesperson\\n\n",
    "                          4 - HR\\n\n",
    "                          5 - Accountant\\n\n",
    "                          6 - Other\\n\n",
    "                          Enter your work position: \"\"\"))\n",
    "\n",
    "salary = worked_hours * hour_value\n",
    "bonus_salary = 0\n",
    "\n",
    "if work_position == 3:\n",
    "    qtd_sales = int(input(\"Enter the quantity of sales: \"))\n",
    "    if qtd_sales < 50:\n",
    "        bonus_salary += salary + 70\n",
    "    if qtd_sales >= 50 and qtd_sales < 100:\n",
    "        bonus_salary += salary + 110\n",
    "    if qtd_sales >= 100:\n",
    "        bonus_salary += salary + 200\n",
    "    else:\n",
    "        bonus_salary += salary\n",
    "else:\n",
    "    print(\"Chose another work position\")\n",
    "    \n",
    "print(f\"Your salary is: ${salary:.2f}\")\n",
    "print(f\"Your bonus salary is: ${bonus_salary:.2f}\")\n"
   ]
  },
  {
   "cell_type": "code",
   "execution_count": null,
   "metadata": {},
   "outputs": [],
   "source": []
  }
 ],
 "metadata": {
  "kernelspec": {
   "display_name": "venv",
   "language": "python",
   "name": "python3"
  },
  "language_info": {
   "codemirror_mode": {
    "name": "ipython",
    "version": 3
   },
   "file_extension": ".py",
   "mimetype": "text/x-python",
   "name": "python",
   "nbconvert_exporter": "python",
   "pygments_lexer": "ipython3",
   "version": "3.12.0"
  }
 },
 "nbformat": 4,
 "nbformat_minor": 2
}
