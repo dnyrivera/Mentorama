{
 "cells": [
  {
   "cell_type": "markdown",
   "metadata": {
    "id": "MUj7odsVxjnY"
   },
   "source": [
    "**MÓDULO 1**\n",
    "\n",
    "1) Vamos fazer um programa que auxilia o setor financeiro de uma grande loja de roupas. Este programa deve ler  o cpf de um funcionário, seu número de horas trabalhadas, o valor que recebe por hora e calcular o salário desse funcionário. O valor deve ser mostrado na tela.\n",
    "\n"
   ]
  },
  {
   "cell_type": "code",
   "execution_count": null,
   "metadata": {
    "colab": {
     "base_uri": "https://localhost:8080/"
    },
    "executionInfo": {
     "elapsed": 31110,
     "status": "ok",
     "timestamp": 1670308357778,
     "user": {
      "displayName": "Milena Menezes Adão",
      "userId": "01995504081397239354"
     },
     "user_tz": 180
    },
    "id": "spFOFSzPxUlY",
    "outputId": "f64de34d-1307-4394-af64-26c75116660a"
   },
   "outputs": [
    {
     "name": "stdout",
     "output_type": "stream",
     "text": [
      "Informe o seu CPF apenas com números: 11234567890\n",
      "Informe o número de horas trabalhadas: 90\n",
      "Informe o valor hora do funcionário: 30\n",
      "O salário é de R$  2700.0\n"
     ]
    }
   ],
   "source": [
    "cpf=int(input('Informe o seu CPF apenas com números: '))\n",
    "numeroHoras=int(input('Informe o número de horas trabalhadas: '))\n",
    "valorHora=float(input('Informe o valor hora do funcionário: '))\n",
    "\n",
    "\n",
    "salario=numeroHoras*valorHora\n",
    "\n",
    "print('O salário é de R$ ',salario)"
   ]
  },
  {
   "cell_type": "markdown",
   "metadata": {
    "id": "cQ42RVJxxrjk"
   },
   "source": [
    "2) Agora, vamos acrescentar algumas regras de negócio à este programa. Nesta empresa os funcionários que ocupam cargo de vendedor recebem comissão, sendo assim é necessário acrescentar a comissão: \n",
    "\n",
    "70 reais se tiver vendido de 1 a 50 peças de roupa no mês\n",
    "\n",
    "110 reais se tiver vendido de 51 a 100 peças de roupa no mês\n",
    "\n",
    "200 reais se tiver vendido mais de 100 peças de roupa no mês\n",
    "\n",
    "Obs.: Os cargos da empresa são: vendedor(a), gerente geral, analista de rh, analista financeiro, comprador(a), auxiliar administrativo e faxineiro(a)."
   ]
  },
  {
   "cell_type": "code",
   "execution_count": null,
   "metadata": {
    "colab": {
     "base_uri": "https://localhost:8080/"
    },
    "executionInfo": {
     "elapsed": 10923,
     "status": "ok",
     "timestamp": 1670310692228,
     "user": {
      "displayName": "Milena Menezes Adão",
      "userId": "01995504081397239354"
     },
     "user_tz": 180
    },
    "id": "XLuP5oX1xjQb",
    "outputId": "ce9283e8-a29f-4611-9b26-8a0a3ed6d294"
   },
   "outputs": [
    {
     "name": "stdout",
     "output_type": "stream",
     "text": [
      "Informe o seu CPF apenas com números: 88877716353\n",
      "Informe o número de horas trabalhadas: 90\n",
      "Informe o valor hora do funcionário: 30\n",
      "Informe o cargo: Digite 1 para vendedor(a), \n",
      " Digite 2 para gerente geral, \n",
      " Digite 3 para analista de rh, \n",
      " Digite 4 para analista financeiro, \n",
      " Digite 5 para comprador(a),\n",
      "  Digite 6 para auxiliar administrativo, \n",
      " Digite 7 para faxineiro(a)8\n",
      "Informe um cargo válido\n"
     ]
    }
   ],
   "source": [
    "cpf=int(input('Informe o seu CPF apenas com números: '))\n",
    "numeroHoras=int(input('Informe o número de horas trabalhadas: '))\n",
    "valorHora=float(input('Informe o valor hora do funcionário: '))\n",
    "cargo= int(input('Informe o cargo: Digite 1 para vendedor(a), \\n Digite 2 para gerente geral, \\n Digite 3 para analista de rh, \\n Digite 4 para analista financeiro, \\n Digite 5 para comprador(a),\\n  Digite 6 para auxiliar administrativo, \\n Digite 7 para faxineiro(a)'))\n",
    "\n",
    "if cargo==1:\n",
    "  quantidadePecas=int(input('Informe a quantidade de peças vendidas: '))\n",
    "  if quantidadePecas>=1 and quantidadePecas<=50:\n",
    "    salario=(numeroHoras*valorHora)+70\n",
    "  elif quantidadePecas>=51 and quantidadePecas<=100:\n",
    "    salario=(numeroHoras*valorHora)+110\n",
    "  elif quantidadePecas>100:\n",
    "    salario=(numeroHoras*valorHora)+200\n",
    "  else:\n",
    "    salario=numeroHoras*valorHora\n",
    "\n",
    "  print('O salário é de R$ ',salario)\n",
    "elif cargo>=2 and cargo<=7:\n",
    "  salario=numeroHoras*valorHora\n",
    "  print('O salário é de R$ ',salario)\n",
    "\n",
    "else:\n",
    "  print('Informe um cargo válido')\n",
    "\n",
    "\n",
    "\n"
   ]
  },
  {
   "cell_type": "markdown",
   "metadata": {
    "id": "VR7RsIyNxt9p"
   },
   "source": [
    "3) O setor financeiro quer fazer uma atualização neste sistema. Eles querem calcular no final a folha de pagamento total. Então o programa deve mostrar, quando terminar de calcular o salario de todos os funcionários, o total da folha de pagamento.\n",
    "\n"
   ]
  },
  {
   "cell_type": "code",
   "execution_count": null,
   "metadata": {
    "colab": {
     "base_uri": "https://localhost:8080/"
    },
    "executionInfo": {
     "elapsed": 53232,
     "status": "ok",
     "timestamp": 1670311507691,
     "user": {
      "displayName": "Milena Menezes Adão",
      "userId": "01995504081397239354"
     },
     "user_tz": 180
    },
    "id": "IKsMFztOxv9J",
    "outputId": "c9b23bce-9f2e-440e-d207-8941eb42dad6"
   },
   "outputs": [
    {
     "name": "stdout",
     "output_type": "stream",
     "text": [
      "Informe o seu CPF apenas com números: 1211313113\n",
      "Informe o número de horas trabalhadas: 70\n",
      "Informe o valor hora do funcionário: 40\n",
      "Informe o cargo: Digite 1 para vendedor(a), \n",
      " Digite 2 para gerente geral, \n",
      " Digite 3 para analista de rh, \n",
      " Digite 4 para analista financeiro, \n",
      " Digite 5 para comprador(a),\n",
      "  Digite 6 para auxiliar administrativo, \n",
      " Digite 7 para faxineiro(a)4\n",
      "O salário é de R$  2800.0\n",
      "Deseja informar mais algum funcionário? Digite S para Sim ou N para nãoS\n",
      "Informe o seu CPF apenas com números: 1313781387\n",
      "Informe o número de horas trabalhadas: 50\n",
      "Informe o valor hora do funcionário: 30\n",
      "Informe o cargo: Digite 1 para vendedor(a), \n",
      " Digite 2 para gerente geral, \n",
      " Digite 3 para analista de rh, \n",
      " Digite 4 para analista financeiro, \n",
      " Digite 5 para comprador(a),\n",
      "  Digite 6 para auxiliar administrativo, \n",
      " Digite 7 para faxineiro(a)1\n",
      "Informe a quantidade de peças vendidas: 60\n",
      "O salário é de R$  1610.0\n",
      "Deseja informar mais algum funcionário? Digite S para Sim ou N para nãoN\n",
      "O valor da folha de pagamento deste mês é de R$  4410.0\n"
     ]
    }
   ],
   "source": [
    "folhaPagamento=0\n",
    "while True:\n",
    "\n",
    "  cpf=int(input('Informe o seu CPF apenas com números: '))\n",
    "  numeroHoras=int(input('Informe o número de horas trabalhadas: '))\n",
    "  valorHora=float(input('Informe o valor hora do funcionário: '))\n",
    "  cargo= int(input('Informe o cargo: Digite 1 para vendedor(a), \\n Digite 2 para gerente geral, \\n Digite 3 para analista de rh, \\n Digite 4 para analista financeiro, \\n Digite 5 para comprador(a),\\n  Digite 6 para auxiliar administrativo, \\n Digite 7 para faxineiro(a)'))\n",
    "\n",
    "  if cargo==1:\n",
    "    quantidadePecas=int(input('Informe a quantidade de peças vendidas: '))\n",
    "    if quantidadePecas>=1 and quantidadePecas<=50:\n",
    "      salario=(numeroHoras*valorHora)+70\n",
    "    elif quantidadePecas>=51 and quantidadePecas<=100:\n",
    "      salario=(numeroHoras*valorHora)+110\n",
    "    elif quantidadePecas>100:\n",
    "      salario=(numeroHoras*valorHora)+200\n",
    "    else:\n",
    "      salario=numeroHoras*valorHora\n",
    "\n",
    "    print('O salário é de R$ ',salario)\n",
    "  elif cargo>=2 and cargo<=7:\n",
    "    salario=numeroHoras*valorHora\n",
    "    print('O salário é de R$ ',salario)\n",
    "\n",
    "  else:\n",
    "    print('Informe um cargo válido')\n",
    "\n",
    "  folhaPagamento+=salario\n",
    "\n",
    "  opcao=input('Deseja informar mais algum funcionário? Digite S para Sim ou N para não')\n",
    "  if opcao == 'N':\n",
    "    break\n",
    "\n",
    "\n",
    "print('O valor da folha de pagamento deste mês é de R$ ', folhaPagamento)\n",
    "\n",
    "\n"
   ]
  },
  {
   "cell_type": "markdown",
   "metadata": {
    "id": "gFZiXro4xwcX"
   },
   "source": [
    "4) Como a loja foi aberta há 3 meses e o programa só foi feito agora, a empresa quer recalcular a folha de pagamento dos três últimos meses. Então o programava deve retornar a soma da folha de pagamento deste período. \n"
   ]
  },
  {
   "cell_type": "code",
   "execution_count": 1,
   "metadata": {
    "colab": {
     "base_uri": "https://localhost:8080/"
    },
    "executionInfo": {
     "elapsed": 206933,
     "status": "ok",
     "timestamp": 1670312561147,
     "user": {
      "displayName": "Milena Menezes Adão",
      "userId": "01995504081397239354"
     },
     "user_tz": 180
    },
    "id": "CTXK8lOkxxSg",
    "outputId": "6620562d-7a92-49f0-8378-709f49bef4ca"
   },
   "outputs": [
    {
     "name": "stdout",
     "output_type": "stream",
     "text": [
      "O salário é de R$  1496.0\n",
      "O salário é de R$  190.0\n",
      "O salário é de R$  912.0\n",
      "O salário é de R$  1254.0\n",
      "O valor da folha de pagamento dos últimos 3 mêses é de R$  3852.0\n"
     ]
    }
   ],
   "source": [
    "folhaPagamento=0\n",
    "\n",
    "for x in range(3): \n",
    "  while True:\n",
    "\n",
    "    cpf=int(input('Informe o seu CPF apenas com números: '))\n",
    "    numeroHoras=int(input('Informe o número de horas trabalhadas: '))\n",
    "    valorHora=float(input('Informe o valor hora do funcionário: '))\n",
    "    cargo= int(input('Informe o cargo: Digite 1 para vendedor(a), \\n Digite 2 para gerente geral, \\n Digite 3 para analista de rh, \\n Digite 4 para analista financeiro, \\n Digite 5 para comprador(a),\\n  Digite 6 para auxiliar administrativo, \\n Digite 7 para faxineiro(a)'))\n",
    "\n",
    "    if cargo==1:\n",
    "      quantidadePecas=int(input('Informe a quantidade de peças vendidas: '))\n",
    "      if quantidadePecas>=1 and quantidadePecas<=50:\n",
    "        salario=(numeroHoras*valorHora)+70\n",
    "      elif quantidadePecas>=51 and quantidadePecas<=100:\n",
    "        salario=(numeroHoras*valorHora)+110\n",
    "      elif quantidadePecas>100:\n",
    "        salario=(numeroHoras*valorHora)+200\n",
    "      else:\n",
    "        salario=numeroHoras*valorHora\n",
    "\n",
    "      print('O salário é de R$ ',salario)\n",
    "    elif cargo>=2 and cargo<=7:\n",
    "      salario=numeroHoras*valorHora\n",
    "      print('O salário é de R$ ',salario)\n",
    "\n",
    "    else:\n",
    "      print('Informe um cargo válido')\n",
    "\n",
    "    folhaPagamento+=salario\n",
    "\n",
    "    opcao=input('Deseja informar mais algum funcionário? Digite S para Sim ou N para não')\n",
    "    if opcao == 'N':\n",
    "      break\n",
    "\n",
    "\n",
    "print('O valor da folha de pagamento dos últimos 3 mêses é de R$ ', folhaPagamento)\n",
    "\n",
    "\n"
   ]
  }
 ],
 "metadata": {
  "colab": {
   "authorship_tag": "ABX9TyNkFlfwK110wGDwXNxVLE2i",
   "provenance": []
  },
  "kernelspec": {
   "display_name": "venv",
   "language": "python",
   "name": "python3"
  },
  "language_info": {
   "codemirror_mode": {
    "name": "ipython",
    "version": 3
   },
   "file_extension": ".py",
   "mimetype": "text/x-python",
   "name": "python",
   "nbconvert_exporter": "python",
   "pygments_lexer": "ipython3",
   "version": "3.13.0"
  }
 },
 "nbformat": 4,
 "nbformat_minor": 0
}
