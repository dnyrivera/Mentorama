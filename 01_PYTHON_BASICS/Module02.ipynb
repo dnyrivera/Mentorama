{
 "cells": [
  {
   "cell_type": "markdown",
   "metadata": {},
   "source": [
    "## List Comprehension\n"
   ]
  },
  {
   "cell_type": "code",
   "execution_count": null,
   "metadata": {},
   "outputs": [],
   "source": [
    "# Create a list of squares of numbers from 0 to 9\n",
    "squares = [x**2 for x in range(10)]\n",
    "print(squares)\n",
    "\n",
    "# Create a list of even numbers from 0 to 9\n",
    "evens = [x for x in range(10) if x % 2 == 0]\n",
    "print(evens)\n",
    "\n",
    "# Create a list of tuples (number, square) for numbers from 0 to 9\n",
    "number_square_tuples = [(x, x**2) for x in range(10)]\n",
    "print(number_square_tuples)"
   ]
  },
  {
   "cell_type": "code",
   "execution_count": null,
   "metadata": {},
   "outputs": [],
   "source": [
    "# Original matrix\n",
    "matrix = [[1, 2, 3, 4], [5, 6, 7, 8], [9, 10, 11, 12]\n",
    "          ]\n",
    "\n",
    "# Transpose the matrix\n",
    "transposed_matrix = []\n",
    "\n",
    "for i in range(len(matrix[0])):\n",
    "    transposed_row = []\n",
    "    for row in matrix:\n",
    "        transposed_row.append(row[i])\n",
    "    transposed_matrix.append(transposed_row)\n",
    "\n",
    "# transposed_matrix = [[row[i] for row in matrix] for i in range(len(matrix[0]))]\n",
    "print(transposed_matrix)"
   ]
  },
  {
   "cell_type": "markdown",
   "metadata": {},
   "source": [
    "## List Exercises\n"
   ]
  },
  {
   "cell_type": "code",
   "execution_count": null,
   "metadata": {},
   "outputs": [],
   "source": [
    "# Start a list\n",
    "empty = []  # empty list\n",
    "numbers = [1, 2, 3, 4, 5]\n",
    "\n",
    "# Access list elements\n",
    "print(\"First Element : \", numbers[0])  # 1\n",
    "print(\"Last Element : \", numbers[-1])  # 5\n",
    "print(\"First 3 Elements : \", numbers[:3])  # [1, 2, 3]\n",
    "print(\"Last 2 Elements : \", numbers[-2:])  # [4, 5]\n",
    "print(\"All Elements : \", numbers[:])  # [1, 2, 3, 4, 5]"
   ]
  },
  {
   "cell_type": "code",
   "execution_count": null,
   "metadata": {},
   "outputs": [],
   "source": [
    "# Unpack list elements\n",
    "first, second, *rest = numbers\n",
    "print(first)  # 1\n",
    "print(second)  # 2\n",
    "print(rest)  # [3, 4, 5]"
   ]
  },
  {
   "cell_type": "code",
   "execution_count": null,
   "metadata": {},
   "outputs": [],
   "source": [
    "# add elements to the list\n",
    "empty.append(1)\n",
    "empty.append(2)\n",
    "empty.append(3)\n",
    "empty.append(4)\n",
    "empty.append(5)\n",
    "empty.extend([6, 7, 8, 9, 10])\n",
    "print(empty)"
   ]
  },
  {
   "cell_type": "code",
   "execution_count": null,
   "metadata": {},
   "outputs": [],
   "source": [
    "# delete elements from the list\n",
    "empty.pop()  # remove last element\n",
    "empty.pop(0)  # remove first element\n",
    "empty.remove(3)  # remove element with value 3\n",
    "del empty[0]  # remove first element\n",
    "print(empty)"
   ]
  },
  {
   "cell_type": "code",
   "execution_count": null,
   "metadata": {},
   "outputs": [],
   "source": [
    "# insert elements to the list (i, x) - insert x at index i\n",
    "empty.insert(0, 1)  # insert 1 at the beginning\n",
    "empty.insert(2, 3)  # insert 3 at index 2\n",
    "print(empty)"
   ]
  },
  {
   "cell_type": "markdown",
   "metadata": {},
   "source": [
    "## Tuples\n"
   ]
  },
  {
   "cell_type": "code",
   "execution_count": null,
   "metadata": {},
   "outputs": [],
   "source": [
    "# Creating a tuple\n",
    "my_tuple = (1, 2, 3, 4, 5)\n",
    "print(\"Original tuple:\", my_tuple)\n",
    "\n",
    "# Accessing elements\n",
    "print(\"First element:\", my_tuple[0])\n",
    "print(\"Last element:\", my_tuple[-1])\n",
    "\n",
    "# Slicing a tuple\n",
    "print(\"First three elements:\", my_tuple[:3])\n",
    "print(\"Last two elements:\", my_tuple[-2:])\n",
    "\n",
    "# Concatenating tuples\n",
    "tuple1 = (1, 2, 3)\n",
    "tuple2 = (4, 5, 6)\n",
    "concatenated_tuple = tuple1 + tuple2\n",
    "print(\"Concatenated tuple:\", concatenated_tuple)\n",
    "\n",
    "# Repeating tuples\n",
    "repeated_tuple = tuple1 * 3\n",
    "print(\"Repeated tuple:\", repeated_tuple)\n",
    "\n",
    "# Checking membership\n",
    "print(\"Is 2 in tuple1?\", 2 in tuple1)\n",
    "print(\"Is 5 in tuple1?\", 5 in tuple1)\n",
    "\n",
    "# Iterating through a tuple\n",
    "for item in my_tuple:\n",
    "    print(item)\n",
    "\n",
    "# Unpacking a tuple\n",
    "a, b, c, d, e = my_tuple\n",
    "print(\"Unpacked values:\", a, b, c, d, e)"
   ]
  },
  {
   "cell_type": "markdown",
   "metadata": {},
   "source": [
    "## Sets\n"
   ]
  },
  {
   "cell_type": "code",
   "execution_count": null,
   "metadata": {},
   "outputs": [],
   "source": [
    "# Sets\n",
    "# Creating a set\n",
    "my_set = {1, 2, 3, 4, 5}\n",
    "print(\"Original set:\", my_set)\n",
    "\n",
    "# Adding elements to a set\n",
    "my_set.add(6)\n",
    "print(\"Set after adding an element:\", my_set)\n",
    "\n",
    "# Removing elements from a set\n",
    "my_set.remove(3)\n",
    "print(\"Set after removing an element:\", my_set)\n",
    "\n",
    "# Checking membership\n",
    "print(\"Is 2 in my_set?\", 2 in my_set)\n",
    "print(\"Is 3 in my_set?\", 3 in my_set)\n",
    "\n",
    "# Set operations\n",
    "set1 = {1, 2, 3}\n",
    "set2 = {3, 4, 5}\n",
    "print(\"Union:\", set1 | set2)\n",
    "print(\"Intersection:\", set1 & set2)\n",
    "print(\"Difference:\", set1 - set2)\n",
    "print(\"Symmetric Difference:\", set1 ^ set2)\n",
    "\n",
    "# Stacks (using list)\n",
    "stack = []\n",
    "stack.append(1)\n",
    "stack.append(2)\n",
    "stack.append(3)\n",
    "print(\"Stack after pushing elements:\", stack)\n",
    "\n",
    "# Popping elements from stack\n",
    "print(\"Popped element:\", stack.pop())\n",
    "print(\"Stack after popping an element:\", stack)"
   ]
  },
  {
   "cell_type": "code",
   "execution_count": null,
   "metadata": {},
   "outputs": [],
   "source": [
    "# Creating a set\n",
    "my_set = {1, 2, 3, 4, 5}\n",
    "print(\"Original set:\", my_set)\n",
    "\n",
    "# Adding elements to a set\n",
    "my_set.add(6)\n",
    "print(\"Set after adding an element:\", my_set)\n",
    "\n",
    "# Removing elements from a set\n",
    "my_set.remove(3)\n",
    "print(\"Set after removing an element:\", my_set)\n",
    "\n",
    "# Checking membership\n",
    "print(\"Is 2 in my_set?\", 2 in my_set)\n",
    "print(\"Is 3 in my_set?\", 3 in my_set)\n",
    "\n",
    "# Set operations\n",
    "set1 = {1, 2, 3}\n",
    "set2 = {3, 4, 5}\n",
    "print(\"Union:\", set1 | set2)\n",
    "print(\"Intersection:\", set1 & set2)\n",
    "print(\"Difference:\", set1 - set2)\n",
    "print(\"Symmetric Difference:\", set1 ^ set2)\n",
    "\n",
    "# Iterating through a set\n",
    "for item in my_set:\n",
    "    print(item)\n",
    "\n",
    "# Creating an empty set\n",
    "empty_set = set()\n",
    "print(\"Empty set:\", empty_set)\n",
    "\n",
    "# Adding multiple elements to a set\n",
    "my_set.update([7, 8, 9])\n",
    "print(\"Set after adding multiple elements:\", my_set)\n",
    "\n",
    "# Removing an element using discard (no error if element not found)\n",
    "my_set.discard(10)\n",
    "print(\"Set after discarding an element:\", my_set)\n",
    "\n",
    "# Copying a set\n",
    "set_copy = my_set.copy()\n",
    "print(\"Copied set:\", set_copy)\n",
    "\n",
    "# Clearing a set\n",
    "my_set.clear()\n",
    "print(\"Set after clearing all elements:\", my_set)"
   ]
  },
  {
   "cell_type": "markdown",
   "metadata": {},
   "source": [
    "## Deque / Filas\n"
   ]
  },
  {
   "cell_type": "code",
   "execution_count": 1,
   "metadata": {
    "vscode": {
     "languageId": "ruby"
    }
   },
   "outputs": [
    {
     "name": "stdout",
     "output_type": "stream",
     "text": [
      "Original deque: deque([1, 2, 3, 4, 5])\n",
      "Deque after appending 6: deque([1, 2, 3, 4, 5, 6])\n",
      "Deque after appending 0 to the left: deque([0, 1, 2, 3, 4, 5, 6])\n",
      "Deque after popping from the right: deque([0, 1, 2, 3, 4, 5])\n",
      "Deque after popping from the left: deque([1, 2, 3, 4, 5])\n",
      "First element: 1\n",
      "Last element: 5\n",
      "Deque after rotating to the right by 2: deque([4, 5, 1, 2, 3])\n",
      "Deque after rotating to the left by 2: deque([1, 2, 3, 4, 5])\n",
      "Deque after extending to the right: deque([1, 2, 3, 4, 5, 6, 7, 8])\n",
      "Deque after extending to the left: deque([-3, -2, -1, 1, 2, 3, 4, 5, 6, 7, 8])\n",
      "Deque after clearing: deque([])\n",
      "Deque with maxlen 5: deque([1, 2, 3], maxlen=5)\n",
      "Deque after extending beyond maxlen: deque([2, 3, 4, 5, 6], maxlen=5)\n"
     ]
    }
   ],
   "source": [
    "from collections import deque\n",
    "\n",
    "# Creating a deque\n",
    "dq = deque([1, 2, 3, 4, 5])\n",
    "print(\"Original deque:\", dq)\n",
    "\n",
    "# Adding elements to the deque\n",
    "dq.append(6)  # Add to the right\n",
    "print(\"Deque after appending 6:\", dq)\n",
    "dq.appendleft(0)  # Add to the left\n",
    "print(\"Deque after appending 0 to the left:\", dq)\n",
    "\n",
    "# Removing elements from the deque\n",
    "dq.pop()  # Remove from the right\n",
    "print(\"Deque after popping from the right:\", dq)\n",
    "dq.popleft()  # Remove from the left\n",
    "print(\"Deque after popping from the left:\", dq)\n",
    "\n",
    "# Accessing elements\n",
    "print(\"First element:\", dq[0])\n",
    "print(\"Last element:\", dq[-1])\n",
    "\n",
    "# Rotating the deque\n",
    "dq.rotate(2)  # Rotate to the right by 2\n",
    "print(\"Deque after rotating to the right by 2:\", dq)\n",
    "dq.rotate(-2)  # Rotate to the left by 2\n",
    "print(\"Deque after rotating to the left by 2:\", dq)\n",
    "\n",
    "# Extending the deque\n",
    "dq.extend([6, 7, 8])  # Extend to the right\n",
    "print(\"Deque after extending to the right:\", dq)\n",
    "dq.extendleft([-1, -2, -3])  # Extend to the left\n",
    "print(\"Deque after extending to the left:\", dq)\n",
    "\n",
    "# Clearing the deque\n",
    "dq.clear()\n",
    "print(\"Deque after clearing:\", dq)\n",
    "\n",
    "# Creating a deque with a maximum length\n",
    "dq = deque([1, 2, 3], maxlen=5)\n",
    "print(\"Deque with maxlen 5:\", dq)\n",
    "dq.extend([4, 5, 6])\n",
    "print(\"Deque after extending beyond maxlen:\", dq)  # Oldest elements are removed"
   ]
  },
  {
   "cell_type": "markdown",
   "metadata": {},
   "source": [
    "## Exercises\n"
   ]
  },
  {
   "cell_type": "code",
   "execution_count": 12,
   "metadata": {
    "vscode": {
     "languageId": "ruby"
    }
   },
   "outputs": [
    {
     "name": "stdout",
     "output_type": "stream",
     "text": [
      "Set elements 01: {1, 2, 3, 4} <class 'set'>\n",
      "Set elements 02: {1, 2, 8, 9, 10} <class 'set'>\n"
     ]
    }
   ],
   "source": [
    "# Creating a set \n",
    "my_set_01 = {1, 2, 3, 4, 1}\n",
    "print (\"Set elements 01:\", my_set_01, type(my_set_01))\n",
    "\n",
    "my_set_02 = set([1, 2, 8, 9 , 10])\n",
    "print (\"Set elements 02:\", my_set_02, type(my_set_02))\n"
   ]
  },
  {
   "cell_type": "code",
   "execution_count": 14,
   "metadata": {
    "vscode": {
     "languageId": "ruby"
    }
   },
   "outputs": [
    {
     "name": "stdout",
     "output_type": "stream",
     "text": [
      "Set before adding 5: {1, 2, 3, 4, 5, 6, 7, 8}\n",
      "Set after adding 5: {1, 2, 3, 4, 5, 6, 7, 8}\n",
      "Set after updating with multiple elements: {1, 2, 3, 4, 5, 6, 7, 8}\n"
     ]
    }
   ],
   "source": [
    "# Adding elements to the set\n",
    "print(\"Set before adding 5:\", my_set_01) # 5 is not present\n",
    "my_set_01.add(5)\n",
    "print(\"Set after adding 5:\", my_set_01) # 5 is added\n",
    "my_set_01.update([4,5, 6, 7, 8])\n",
    "print(\"Set after updating with multiple elements:\", my_set_01) # 6, 7, 8 are added\n",
    "\n",
    "# Removing elements from the set\n",
    "my_set_01.remove(5)\n",
    "print(\"Set after removing 5:\", my_set_01) # 5 is removed\n",
    "my_set_01.discard(6)\n",
    "print(\"Set after discarding 6:\", my_set_01) # 6 is removed\n",
    "my_set_01.pop()\n",
    "print(\"Set after popping an element:\", my_set_01) # Random element is removed\n"
   ]
  }
 ],
 "metadata": {
  "kernelspec": {
   "display_name": "venv",
   "language": "python",
   "name": "python3"
  },
  "language_info": {
   "codemirror_mode": {
    "name": "ipython",
    "version": 3
   },
   "file_extension": ".py",
   "mimetype": "text/x-python",
   "name": "python",
   "nbconvert_exporter": "python",
   "pygments_lexer": "ipython3",
   "version": "3.12.2"
  }
 },
 "nbformat": 4,
 "nbformat_minor": 2
}
