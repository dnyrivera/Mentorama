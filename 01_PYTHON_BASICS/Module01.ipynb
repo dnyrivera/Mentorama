{
 "cells": [
  {
   "cell_type": "code",
   "execution_count": null,
   "metadata": {},
   "outputs": [],
   "source": [
    "import this"
   ]
  },
  {
   "cell_type": "markdown",
   "metadata": {},
   "source": [
    "## IF\n"
   ]
  },
  {
   "cell_type": "code",
   "execution_count": null,
   "metadata": {},
   "outputs": [],
   "source": [
    "x = 5\n",
    "y = 10"
   ]
  },
  {
   "cell_type": "code",
   "execution_count": null,
   "metadata": {},
   "outputs": [],
   "source": [
    "if x < y:\n",
    "    print(\"x is less than y\")"
   ]
  },
  {
   "cell_type": "code",
   "execution_count": null,
   "metadata": {},
   "outputs": [],
   "source": [
    "if y < x:\n",
    "    print(\"y is less than x\")"
   ]
  },
  {
   "cell_type": "code",
   "execution_count": null,
   "metadata": {},
   "outputs": [],
   "source": [
    "if y == x:\n",
    "    print(\"y is equal to x\")\n",
    "print(\"y is not equal to x\")"
   ]
  },
  {
   "cell_type": "code",
   "execution_count": null,
   "metadata": {},
   "outputs": [],
   "source": [
    "if y**2 > x:\n",
    "    print(\"y squared is greater than x\")"
   ]
  },
  {
   "cell_type": "code",
   "execution_count": null,
   "metadata": {},
   "outputs": [],
   "source": [
    "if 'ani' in 'animals':\n",
    "    print('yes')"
   ]
  },
  {
   "cell_type": "code",
   "execution_count": null,
   "metadata": {},
   "outputs": [],
   "source": [
    "name = 'Rivera'\n",
    "if name in ['Paulo', 'Donny', 'Miguel']:\n",
    "    print('Paulo is in the list')\n",
    "print(name + ' is not in the list')"
   ]
  },
  {
   "cell_type": "markdown",
   "metadata": {},
   "source": [
    "## ELSE\n"
   ]
  },
  {
   "cell_type": "code",
   "execution_count": null,
   "metadata": {},
   "outputs": [],
   "source": [
    "x = 5\n",
    "y = 12\n",
    "\n",
    "if x < y:\n",
    "    print(\"x is less than y\")\n",
    "else:\n",
    "    print(\"x is not less than y\")"
   ]
  },
  {
   "cell_type": "code",
   "execution_count": null,
   "metadata": {},
   "outputs": [],
   "source": [
    "name = 'Donny'\n",
    "middle_name = 'Riveras'\n",
    "last_name = 'Negrão'\n",
    "full_name = \" \"\n",
    "\n",
    "if name == 'Donny':\n",
    "    full_name = 'Hello Donny'\n",
    "    if middle_name == 'Rivera':\n",
    "        full_name += ' Rivera'\n",
    "        if last_name == 'Negrão':\n",
    "            full_name += ' Negrão'\n",
    "            print(full_name)\n",
    "        else:\n",
    "            print('Your last name is not Negrão')\n",
    "    else:\n",
    "        print('Your middle name is not Rivera')\n",
    "else:\n",
    "    print('Your name is not Donny')"
   ]
  },
  {
   "cell_type": "markdown",
   "metadata": {},
   "source": [
    "## Elif\n"
   ]
  },
  {
   "cell_type": "code",
   "execution_count": null,
   "metadata": {},
   "outputs": [],
   "source": [
    "# Testing if my class exists on the university\n",
    "classes = 'test'\n",
    "if classes == 'Physics':\n",
    "    print('Physics')\n",
    "elif classes == 'Spanish':\n",
    "    print('Spanish')\n",
    "elif classes == 'Chemistry':\n",
    "    print('Chemistry')\n",
    "elif classes == 'Math':\n",
    "    print('Math')\n",
    "else:\n",
    "    print('The university does not have that class')"
   ]
  },
  {
   "cell_type": "code",
   "execution_count": null,
   "metadata": {},
   "outputs": [],
   "source": [
    "a = 25\n",
    "b = 26\n",
    "if b > a:\n",
    "    print(\"b is greater than a\")\n",
    "elif a == b:\n",
    "    print(\"a and b are equal\")\n",
    "else:\n",
    "    print(\"a is greater than b\")"
   ]
  },
  {
   "cell_type": "markdown",
   "metadata": {},
   "source": [
    "## Loops\n"
   ]
  },
  {
   "cell_type": "markdown",
   "metadata": {},
   "source": [
    "### For\n"
   ]
  },
  {
   "cell_type": "code",
   "execution_count": null,
   "metadata": {},
   "outputs": [
    {
     "name": "stdout",
     "output_type": "stream",
     "text": [
      "apple banana cherry orange "
     ]
    }
   ],
   "source": [
    "fruits = [\"apple\", \"banana\", \"cherry\", \"orange\"]\n",
    "for x in fruits:\n",
    "    print(x, end=\" \")"
   ]
  },
  {
   "cell_type": "code",
   "execution_count": null,
   "metadata": {},
   "outputs": [
    {
     "name": "stdout",
     "output_type": "stream",
     "text": [
      "b a n a n a "
     ]
    }
   ],
   "source": [
    "# print String\n",
    "for x in \"banana\":\n",
    "    print(x, end=\" \")"
   ]
  },
  {
   "cell_type": "code",
   "execution_count": 13,
   "metadata": {},
   "outputs": [
    {
     "name": "stdout",
     "output_type": "stream",
     "text": [
      "0:apple 1:banana 2:cherry 3:orange "
     ]
    }
   ],
   "source": [
    "for x in range(len(fruits)):\n",
    "    print(x, fruits[x], sep=\":\", end=\" \")"
   ]
  },
  {
   "cell_type": "code",
   "execution_count": null,
   "metadata": {},
   "outputs": [
    {
     "name": "stdout",
     "output_type": "stream",
     "text": [
      "0 1 2 3 4 5 6 7 8 9 "
     ]
    }
   ],
   "source": [
    "# print a range of numbers between 0 and 9\n",
    "for x in range(0, 10):\n",
    "    print(x, end=\" \")"
   ]
  },
  {
   "cell_type": "code",
   "execution_count": null,
   "metadata": {},
   "outputs": [],
   "source": [
    "# print numbers\n",
    "for i in range(1, 21):\n",
    "    print(i)"
   ]
  },
  {
   "cell_type": "markdown",
   "metadata": {},
   "source": [
    "### While\n"
   ]
  },
  {
   "cell_type": "code",
   "execution_count": null,
   "metadata": {},
   "outputs": [],
   "source": [
    "# using while to print numbers from 0 to 9 and break when you type 0\n",
    "sum = 0\n",
    "while True:\n",
    "    value = int(input(\"Enter a number or type 0 to end: \"))\n",
    "    if value == 0:\n",
    "        break\n",
    "    sum += value\n",
    "print(\"The sum is: \", sum)"
   ]
  },
  {
   "cell_type": "code",
   "execution_count": null,
   "metadata": {},
   "outputs": [],
   "source": [
    "# using while loop print numbers from 0 to 9\n",
    "i = 0\n",
    "while i < 10:\n",
    "    print(i)\n",
    "    i += 1"
   ]
  },
  {
   "cell_type": "markdown",
   "metadata": {},
   "source": [
    "# Exercises\n"
   ]
  },
  {
   "cell_type": "markdown",
   "metadata": {},
   "source": [
    "1. Vamos fazer um programa que auxilia o setor financeiro de uma grande loja de roupas, ester programa deve ler:  \n",
    "   a) Cpf de funcionário  \n",
    "   b) Seu numero de horas trabalhas  \n",
    "   c) O valor que recebe da hora  \n",
    "   d) Calcular o salário do funcionário e mostrar na tela\n"
   ]
  },
  {
   "cell_type": "code",
   "execution_count": null,
   "metadata": {},
   "outputs": [],
   "source": [
    "user_cpf = int(input(\"Enter your CPF: \"))\n",
    "worked_hours = int(input(\"Enter your worked hours: \"))\n",
    "hour_value = float(input(\"Enter your hour value: \"))\n",
    "salary = worked_hours * hour_value\n",
    "print(f\"Your salary is: ${salary:.2f}\")"
   ]
  },
  {
   "cell_type": "markdown",
   "metadata": {},
   "source": [
    "2. Agora, vamos acrescentar algumas regras de negócio à este programa. Nesta empresa os funcionários que ocupam cargo de vendedor recebem comissão, sendo assim é necessário acrescentar a comissão:\n",
    "\n",
    "   a. 70 reais se tiver vendido de 1 a 50 peças de roupa no mês\n",
    "\n",
    "   b. 110 reais se tiver vendido de 51 a 100 peças de roupa no mês\n",
    "\n",
    "   c. 200 reais se tiver vendido mais de 100 peças de roupa no mês\n",
    "\n",
    "   Obs.: Os cargos da empresa são: vendedor(a), gerente geral, analista de rh, analista financeiro, comprador(a), auxiliar administrativo e faxineiro(a).\n"
   ]
  },
  {
   "cell_type": "code",
   "execution_count": null,
   "metadata": {},
   "outputs": [],
   "source": [
    "# Module 1 - Exercise 2\n",
    "user_cpf = int(input(\"Enter your CPF: \"))\n",
    "worked_hours = int(input(\"Enter your worked hours: \"))\n",
    "hour_value = float(input(\"Enter your hour value: \"))\n",
    "work_position = int(input(\"\"\"Enter your work position: \n",
    "                          1 - Manager\\n\n",
    "                          2 - Supervisor\\n\n",
    "                          3 - Salesperson\\n\n",
    "                          4 - HR\\n\n",
    "                          5 - Accountant\\n\n",
    "                          6 - Other\\n\n",
    "                          Enter your work position: \"\"\"))\n",
    "\n",
    "salary = worked_hours * hour_value\n",
    "bonus_salary = 0\n",
    "\n",
    "if work_position == 3:\n",
    "    qtd_sales = int(input(\"Enter the quantity of sales: \"))\n",
    "    if qtd_sales < 50:\n",
    "        bonus_salary += salary + 70\n",
    "    if qtd_sales >= 50 and qtd_sales < 100:\n",
    "        bonus_salary += salary + 110\n",
    "    if qtd_sales >= 100:\n",
    "        bonus_salary += salary + 200\n",
    "    else:\n",
    "        bonus_salary += salary\n",
    "else:\n",
    "    print(\"Chose another work position\")\n",
    "\n",
    "print(f\"Your salary is: ${salary:.2f}\")\n",
    "print(f\"Your bonus salary is: ${bonus_salary:.2f}\")"
   ]
  },
  {
   "cell_type": "code",
   "execution_count": null,
   "metadata": {},
   "outputs": [],
   "source": []
  }
 ],
 "metadata": {
  "kernelspec": {
   "display_name": "venv",
   "language": "python",
   "name": "python3"
  },
  "language_info": {
   "codemirror_mode": {
    "name": "ipython",
    "version": 3
   },
   "file_extension": ".py",
   "mimetype": "text/x-python",
   "name": "python",
   "nbconvert_exporter": "python",
   "pygments_lexer": "ipython3",
   "version": "3.12.2"
  }
 },
 "nbformat": 4,
 "nbformat_minor": 2
}
