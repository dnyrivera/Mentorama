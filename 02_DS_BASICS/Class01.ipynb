{
 "cells": [
  {
   "cell_type": "markdown",
   "metadata": {},
   "source": [
    "## Lists\n"
   ]
  },
  {
   "cell_type": "code",
   "execution_count": null,
   "metadata": {},
   "outputs": [],
   "source": [
    "# List\n",
    "my_list = [1, 2, 3, 4, 5]  # Mutable, ordered, allows duplicates\n",
    "print(\"List:\", my_list)\n",
    "\n",
    "# Tuple\n",
    "my_tuple = (1, 2, 3, 4, 5)  # Immutable, ordered, allows duplicates\n",
    "print(\"Tuple:\", my_tuple)\n",
    "\n",
    "# Dictionary\n",
    "# Mutable, unordered, no duplicates, key-value pairs\n",
    "my_dict = {'a': 1, 'b': 2, 'c': 3}\n",
    "print(\"Dictionary:\", my_dict)\n",
    "\n",
    "# Set\n",
    "my_set = {1, 2, 3, 4, 5}  # Mutable, unordered, no duplicates\n",
    "print(\"Set:\", my_set)\n",
    "\n",
    "# String\n",
    "my_string = \"Hello, World!\"\n",
    "print(\"String:\", my_string)"
   ]
  },
  {
   "cell_type": "code",
   "execution_count": 3,
   "metadata": {},
   "outputs": [
    {
     "name": "stdout",
     "output_type": "stream",
     "text": [
      "Names: ['Alice', 'Bob', 'Charlie', 'David', 'Eve']\n"
     ]
    }
   ],
   "source": [
    "# Create a list wih names\n",
    "names = ['Alice', 'Bob', 'Charlie', 'David', 'Eve']\n",
    "print(\"Names:\", names)"
   ]
  },
  {
   "cell_type": "code",
   "execution_count": 1,
   "metadata": {},
   "outputs": [
    {
     "name": "stdout",
     "output_type": "stream",
     "text": [
      "Mixed: [1, 'Alice', True, [1, 2, 3]]\n"
     ]
    }
   ],
   "source": [
    "# Create a list with many types and another list inside it\n",
    "mixed = [1, 'Alice', True, [1, 2, 3]]\n",
    "print(\"Mixed:\", mixed)"
   ]
  },
  {
   "cell_type": "code",
   "execution_count": null,
   "metadata": {},
   "outputs": [
    {
     "name": "stdout",
     "output_type": "stream",
     "text": [
      "List size: 5\n",
      "First name: Alice\n",
      "Last name: Eve\n",
      "First 3 names: ['Alice', 'Bob', 'Charlie']\n",
      "Last 2 names: ['David', 'Eve']\n",
      "Every other name: ['Alice', 'Charlie', 'Eve']\n",
      "Every other name in reverse: ['Eve', 'Charlie', 'Alice']\n"
     ]
    }
   ],
   "source": [
    "# list size and access\n",
    "print(\"List size:\", len(names))  # Get the size of the list\n",
    "print(\"First name:\", names[0])  # Index starts from 0\n",
    "print(\"Last name:\", names[-1])  # Negative index starts from the end\n",
    "print(\"First 3 names:\", names[:3])  # Slicing\n",
    "print(\"Last 2 names:\", names[-2:])  # Slicing\n",
    "print(\"Every other name:\", names[::2])  # Slicing\n",
    "print(\"Every other name in reverse:\", names[::-2])  # Slicing"
   ]
  },
  {
   "cell_type": "code",
   "execution_count": 5,
   "metadata": {},
   "outputs": [
    {
     "name": "stdout",
     "output_type": "stream",
     "text": [
      "All names: ['Alice', 'Bob', 'Charlie', 'David', 'Eve']\n"
     ]
    }
   ],
   "source": [
    "# concatenate lists\n",
    "names1 = ['Alice', 'Bob', 'Charlie']\n",
    "names2 = ['David', 'Eve']\n",
    "all_names = names1 + names2\n",
    "print(\"All names:\", all_names)"
   ]
  },
  {
   "cell_type": "code",
   "execution_count": 6,
   "metadata": {},
   "outputs": [
    {
     "name": "stdout",
     "output_type": "stream",
     "text": [
      "Max: 5\n",
      "Min: 1\n",
      "Sum: 15\n",
      "Sorted: [1, 2, 3, 4, 5]\n",
      "Reversed: [5, 4, 3, 2, 1]\n",
      "Index of 'Charlie': 2\n",
      "Count of 'Alice': 1\n",
      "Range: [1, 2, 3, 4, 5]\n"
     ]
    }
   ],
   "source": [
    "# Basic functions on Lists\n",
    "print(\"Max:\", max([1, 2, 3, 4, 5]))  # Get the maximum value\n",
    "print(\"Min:\", min([1, 2, 3, 4, 5]))  # Get the minimum value\n",
    "print(\"Sum:\", sum([1, 2, 3, 4, 5]))  # Get the sum of all values\n",
    "print(\"Sorted:\", sorted([5, 4, 3, 2, 1]))  # Sort the list\n",
    "print(\"Reversed:\", list(reversed([1, 2, 3, 4, 5])))  # Reverse the list\n",
    "print(\"Index of 'Charlie':\", names.index(\n",
    "    'Charlie'))  # Get the index of a value\n",
    "# Count the number of occurrences of a value\n",
    "print(\"Count of 'Alice':\", names.count('Alice'))\n",
    "range_list = list(range(1, 6))  # Create a list of numbers from 1 to 5\n",
    "print(\"Range:\", range_list)"
   ]
  },
  {
   "cell_type": "code",
   "execution_count": null,
   "metadata": {},
   "outputs": [],
   "source": [
    "# Manipulating Lists\n",
    "extend_names = ['Grace', 'Heidi', 'Ivy']\n",
    "names.extend(extended_names)  # Extend the list with another list\n",
    "print(\"Extend:\", names)\n",
    "names.append('Frank')  # Add an element to the end of the list\n",
    "print(\"Append:\", names)\n",
    "names.insert(1, 'Grace')  # Insert an element at a specific index\n",
    "print(\"Insert:\", names)\n",
    "\n",
    "names.remove('Bob')  # Remove an element by value\n",
    "print(\"Remove:\", names)\n",
    "names.pop(2)  # Remove an element by index\n",
    "print(\"Pop:\", names)\n",
    "names.sort()  # Sort the list in place\n",
    "print(\"Sort:\", names)\n",
    "names.reverse()  # Reverse the list in place\n",
    "print(\"Reverse:\", names)\n",
    "names.clear()  # Clear the list\n",
    "print(\"Clear:\", names)\n",
    "\n",
    "count = names.count('Alice')  # Count the number of occurrences of a value\n",
    "print(\"Count:\", count)"
   ]
  },
  {
   "cell_type": "markdown",
   "metadata": {},
   "source": [
    "## Tuples\n"
   ]
  },
  {
   "cell_type": "code",
   "execution_count": null,
   "metadata": {},
   "outputs": [],
   "source": [
    "# Tuples in Python\n",
    "\n",
    "# Creating a tuple\n",
    "my_tuple = (1, 2, 3, 4, 5)\n",
    "print(\"Tuple:\", my_tuple)\n",
    "\n",
    "# Tuples can contain different types of elements\n",
    "mixed_tuple = (1, \"Alice\", True, [1, 2, 3])\n",
    "print(\"Mixed Tuple:\", mixed_tuple)\n",
    "\n",
    "# Accessing elements in a tuple\n",
    "print(\"First element:\", my_tuple[0])\n",
    "print(\"Last element:\", my_tuple[-1])\n",
    "\n",
    "# Slicing a tuple\n",
    "print(\"First 3 elements:\", my_tuple[:3])\n",
    "print(\"Last 2 elements:\", my_tuple[-2:])\n",
    "print(\"Every other element:\", my_tuple[::2])\n",
    "\n",
    "# Tuples are immutable, so we cannot change their elements\n",
    "# The following line would raise an error: my_tuple[0] = 10\n",
    "\n",
    "# Concatenating tuples\n",
    "tuple1 = (1, 2, 3)\n",
    "tuple2 = (4, 5, 6)\n",
    "concatenated_tuple = tuple1 + tuple2\n",
    "print(\"Concatenated Tuple:\", concatenated_tuple)\n",
    "\n",
    "# Repeating tuples\n",
    "repeated_tuple = tuple1 * 3\n",
    "print(\"Repeated Tuple:\", repeated_tuple)\n",
    "\n",
    "# Tuple methods\n",
    "print(\"Count of 1 in tuple1:\", tuple1.count(1))\n",
    "print(\"Index of 2 in tuple1:\", tuple1.index(2))\n",
    "\n",
    "# Unpacking tuples\n",
    "a, b, c = tuple1\n",
    "print(\"Unpacked values:\", a, b, c)\n",
    "\n",
    "# Nested tuples\n",
    "nested_tuple = ((1, 2), (3, 4), (5, 6))\n",
    "print(\"Nested Tuple:\", nested_tuple)\n",
    "print(\"First element of first nested tuple:\", nested_tuple[0][0])"
   ]
  }
 ],
 "metadata": {
  "kernelspec": {
   "display_name": "venv",
   "language": "python",
   "name": "python3"
  },
  "language_info": {
   "codemirror_mode": {
    "name": "ipython",
    "version": 3
   },
   "file_extension": ".py",
   "mimetype": "text/x-python",
   "name": "python",
   "nbconvert_exporter": "python",
   "pygments_lexer": "ipython3",
   "version": "3.12.2"
  }
 },
 "nbformat": 4,
 "nbformat_minor": 2
}
